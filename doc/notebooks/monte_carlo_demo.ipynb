{
 "cells": [
  {
   "cell_type": "code",
   "execution_count": 1,
   "metadata": {},
   "outputs": [],
   "source": [
    "# Jupyter notebook sets the cwd to the folder containing the notebook.\n",
    "# So, you want to add the root of the project to the sys path, so modules load correctly.\n",
    "import sys\n",
    "import matplotlib.pyplot as plt\n",
    "import numpy as np\n",
    "sys.path.append(\"../../\")"
   ]
  },
  {
   "cell_type": "markdown",
   "metadata": {},
   "source": [
    "# Monte Carlo Simulation\n",
    "\n",
    "Mostly based on YouTube video: https://youtu.be/slbZ-SLpIgg?si=JEZA-BJsM8vEuD4b\n",
    "\n",
    "From lecture slides:\n",
    "\n",
    "* Identify input parameters and distributions based on realistic estimates\n",
    "* Sample from random distribution\n",
    "* Compute output result\n",
    "* Repeat X number of times from step 2\n",
    "* Analyze output variable, e.g. mean, std-dev, probability of success?\n",
    "* Repeat whole experiment Y times to get confidence in intervals."
   ]
  },
  {
   "cell_type": "markdown",
   "metadata": {},
   "source": [
    "# 1. Create Model.\n",
    "\n",
    "Convert \"We want 2 reports by end of day\" into some kind of model, with an appropriate distribution. As per the video, we are going to model the time taken to write a report by a uniform distribution. So, time to complete the reports A and B is equiprobable between the low and high limits. "
   ]
  },
  {
   "cell_type": "code",
   "execution_count": 3,
   "metadata": {},
   "outputs": [
    {
     "name": "stdout",
     "output_type": "stream",
     "text": [
      "One sample is A=[1.20318001], B=[4.14157275], duration=[5.34475276]\n"
     ]
    }
   ],
   "source": [
    "A = np.random.uniform(low=1.0, high=5.0, size=1)\n",
    "B = np.random.uniform(low=2.0, high=6.0, size=1)\n",
    "duration = A + B\n",
    "print(f\"One sample is A={A}, B={B}, duration={duration}\")"
   ]
  },
  {
   "cell_type": "markdown",
   "metadata": {},
   "source": [
    "If you re-reun the above cell, you will get a different number each time you run it."
   ]
  },
  {
   "cell_type": "markdown",
   "metadata": {},
   "source": [
    "# 2. Sample from Distribution X Times, Compute Output.\n",
    "\n",
    "Depending on your programming style, you can for example\n",
    "\n",
    "* Use a for loop, to sample each number, and compute model inside loop.\n",
    "* Or use array arithmetic, which should be slightly faster.\n",
    "* (or some other programming style)"
   ]
  },
  {
   "cell_type": "code",
   "execution_count": 18,
   "metadata": {},
   "outputs": [],
   "source": [
    "# This variable controls the number of samples.\n",
    "sims = 100000"
   ]
  },
  {
   "cell_type": "code",
   "execution_count": 19,
   "metadata": {},
   "outputs": [
    {
     "name": "stdout",
     "output_type": "stream",
     "text": [
      "Using loop: mean=7.006858796296506, std_dev=1.6331296049564739\n"
     ]
    }
   ],
   "source": [
    "# Option 1: Using for loop. Slow, but might be easier to follow.\n",
    "duration_samples = []\n",
    "for i in range(0, sims):\n",
    "    A_sample = np.random.uniform(low=1.0, high=5.0, size=1)\n",
    "    B_sample = np.random.uniform(low=2.0, high=6.0, size=1)\n",
    "    duration_sample = A_sample + B_sample\n",
    "    duration_samples.append(duration_sample)\n",
    "\n",
    "print(f\"Using loop: mean={np.mean(duration_samples)}, std_dev={np.std(duration_samples)}\")"
   ]
  },
  {
   "cell_type": "code",
   "execution_count": 20,
   "metadata": {},
   "outputs": [
    {
     "name": "stdout",
     "output_type": "stream",
     "text": [
      "Using arrays: mean=7.003426575973205, std_dev=1.6323965084354124\n"
     ]
    }
   ],
   "source": [
    "# Option 2: Using arrays. Faster, but depending on the complexity of model, may be confusing.\n",
    "A_samples = np.random.uniform(low=1.0, high=5.0, size=sims)\n",
    "B_samples = np.random.uniform(low=2.0, high=6.0, size=sims)\n",
    "duration_samples = A_samples + B_samples\n",
    "print(f\"Using arrays: mean={np.mean(duration_samples)}, std_dev={np.std(duration_samples)}\")"
   ]
  },
  {
   "cell_type": "markdown",
   "metadata": {},
   "source": [
    "# Analyse Output.\n",
    "\n",
    "This does depend on the specific problem you are studying. You could compute \n",
    "\n",
    "* some summary statistics, e,g. mean, standard deviation of total time taken.\n",
    "* probability of total time being too much (in this case, being late for the party. i.e. total time > 9 hours.)"
   ]
  },
  {
   "cell_type": "code",
   "execution_count": 21,
   "metadata": {},
   "outputs": [
    {
     "data": {
      "image/png": "[encoded data removed]",
      "text/plain": [
       "<Figure size 300x150 with 1 Axes>"
      ]
     },
     "metadata": {},
     "output_type": "display_data"
    },
    {
     "name": "stdout",
     "output_type": "stream",
     "text": [
      "Probability of going over 9 hours:0.12569\n"
     ]
    }
   ],
   "source": [
    "plt.figure(figsize=(3, 1.5))\n",
    "plt.hist(duration_samples, density=True)\n",
    "plt.axvline(9, color='r')\n",
    "plt.show()\n",
    "print(f\"Probability of going over 9 hours:{(duration_samples > 9).sum() / sims}\")"
   ]
  },
  {
   "cell_type": "markdown",
   "metadata": {},
   "source": [
    "# Confidence Limits.\n",
    "\n",
    "Imagine the scenario above was done with only 1, 2, or say 10 samples for the length of each report? Would it be a good thing to reply on the probability derived. It may be the case that the small number of samples, say 1, 2, or 10, gave exactly the right answer. But it may also be the case that we just got lucky/unlucky with the data, and we predict say 12.5 %, when in reality the unknown true value is different. What we want is a measure of certainty or \"confidence\" in the prediction. We want to be able to say, \"The expected total time is X, and I'm Y (say 95%) confident that my estimate lies within a range A-B\"."
   ]
  },
  {
   "cell_type": "markdown",
   "metadata": {},
   "source": [
    "# Confidence Intervals by Empirical Rule\n",
    "\n",
    "While this is simple, it is in general wrong. If we don't actually know the output distribution, it's technically wrong to assume it is Gaussian. In the general case, we would have to model the whole system and compute the mean and variance based on combining all the random variables together correctly. If we could do this, we would not need Monte Carlo simulation in the first place. Note however that it may, in simple cases like this, still produce convincing numbers. See the \"Confidence Intervals by Simulation\" method, which is data-driven, and makes no assumptions on the distributions, or independence of variables."
   ]
  },
  {
   "cell_type": "code",
   "execution_count": 22,
   "metadata": {},
   "outputs": [
    {
     "name": "stdout",
     "output_type": "stream",
     "text": [
      "Expected total time is 7.0, and I'm 95% confident that the total time will lie within 3.8 and 10.2 hours.\n"
     ]
    }
   ],
   "source": [
    "# Method 1: Assuming normally distributed output value (duration of time in this case). Use \"Empirical Rule\"\n",
    "\n",
    "# i.e. You hard code the rule from standard lookup tables:\n",
    "# 68% of data within 1.0 std dev.\n",
    "# 95% of data within 1.96 std dev.\n",
    "# 99.7% of data within 3 std dev.\n",
    "\n",
    "mean_of_total_times = np.mean(duration_samples)\n",
    "std_dev_of_total_times = np.std(duration_samples)\n",
    "low = np.round(mean_of_total_times - 1.96 * std_dev_of_total_times, 2)\n",
    "high = np.round(mean_of_total_times + 1.96 * std_dev_of_total_times, 2)\n",
    "\n",
    "print(f\"Expected total time is {np.round(mean_of_total_times,2)}, and I'm 95% confident that the total time will lie within {low} and {high} hours.\")\n"
   ]
  },
  {
   "cell_type": "markdown",
   "metadata": {},
   "source": [
    "# Confidence Intervals by Simulation\n",
    "\n",
    "A simple way to compute 95% confidence intervals is to simply take the central 95% of the data. This makes no assumptions about the output distribution, or the independence of contributory random variables."
   ]
  },
  {
   "cell_type": "code",
   "execution_count": 20,
   "metadata": {},
   "outputs": [
    {
     "name": "stdout",
     "output_type": "stream",
     "text": [
      "Expected total time is 7.0, and I'm 95% confident that the total time will lie within 3.9 and 10.11 hours.\n"
     ]
    }
   ],
   "source": [
    "low = np.round(np.percentile(duration_samples, 2.5), 2)\n",
    "high = np.round(np.percentile(duration_samples, 97.5), 2)\n",
    "mean_of_means = np.round(np.mean(duration_samples), 2)\n",
    "print(f\"Expected total time is {mean_of_means}, and I'm 95% confident that the total time will lie within {low} and {high} hours.\")"
   ]
  },
  {
   "cell_type": "code",
   "execution_count": null,
   "metadata": {},
   "outputs": [],
   "source": []
  }
 ],
 "metadata": {
  "kernelspec": {
   "display_name": "mphy0026",
   "language": "python",
   "name": "mphy0026"
  },
  "language_info": {
   "codemirror_mode": {
    "name": "ipython",
    "version": 3
   },
   "file_extension": ".py",
   "mimetype": "text/x-python",
   "name": "python",
   "nbconvert_exporter": "python",
   "pygments_lexer": "ipython3",
   "version": "3.10.16"
  }
 },
 "nbformat": 4,
 "nbformat_minor": 4
}
